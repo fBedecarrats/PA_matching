{
  "cells": [
    {
      "cell_type": "raw",
      "metadata": {},
      "source": [
        "---\n",
        "title: Wolf julia\n",
        "editor_options:\n",
        "  chunk_output_type: console\n",
        "---"
      ],
      "id": "395420c5"
    },
    {
      "cell_type": "markdown",
      "metadata": {},
      "source": [
        "```{julia}\n",
        "first(methodswith(Int64), 5)\n",
        "```"
      ],
      "id": "a6541d64"
    }
  ],
  "metadata": {
    "kernelspec": {
      "display_name": "Python 3",
      "language": "python",
      "name": "python3"
    }
  },
  "nbformat": 4,
  "nbformat_minor": 5
}